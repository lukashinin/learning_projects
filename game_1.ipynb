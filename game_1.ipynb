{
 "cells": [
  {
   "cell_type": "code",
   "execution_count": null,
   "metadata": {},
   "outputs": [],
   "source": [
    "from game_1_V2 import score_game\n",
    "from game_1_V2 import predict_number\n"
   ]
  }
 ],
 "metadata": {
  "interpreter": {
   "hash": "bd5603505056a43c4f6b9cdddac78748071ff99ada70b390ee372642bbd7247a"
  },
  "kernelspec": {
   "display_name": "Python 3.8.12 64-bit ('Igor_Lukashin': conda)",
   "language": "python",
   "name": "python3"
  },
  "language_info": {
   "codemirror_mode": {
    "name": "ipython",
    "version": 3
   },
   "file_extension": ".py",
   "mimetype": "text/x-python",
   "name": "python",
   "nbconvert_exporter": "python",
   "pygments_lexer": "ipython3",
   "version": "3.8.12"
  },
  "orig_nbformat": 4
 },
 "nbformat": 4,
 "nbformat_minor": 2
}
